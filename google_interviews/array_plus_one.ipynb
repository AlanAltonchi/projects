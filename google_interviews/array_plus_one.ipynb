{
 "cells": [
  {
   "cell_type": "markdown",
   "metadata": {},
   "source": [
    "# Array plus one\n",
    "Create a function that takes in an array of numbers, adds one to the concatenated array and returns an array back.\n",
    "\n",
    "Example input: `[1,3,4,8]`\n",
    "<br>Example output: `[1,3,4,9]`"
   ]
  },
  {
   "cell_type": "code",
   "execution_count": 3,
   "metadata": {},
   "outputs": [],
   "source": [
    "def plus_one(arr):\n",
    "    number_string = \"\".join(str(n) for n in arr) # Convert from array to string\n",
    "    number_string_add = str(int(number_string) + 1) # Convert to int, add one, convert back to string\n",
    "    return [int(n) for n in number_string_add] # Convert to int, add to array and return"
   ]
  },
  {
   "cell_type": "code",
   "execution_count": 5,
   "metadata": {},
   "outputs": [
    {
     "name": "stdout",
     "output_type": "stream",
     "text": [
      "[1, 4, 0, 0]\n"
     ]
    }
   ],
   "source": [
    "print(plus_one([1,3,9,9]))"
   ]
  }
 ],
 "metadata": {
  "kernelspec": {
   "display_name": "Python 3.10.5 64-bit",
   "language": "python",
   "name": "python3"
  },
  "language_info": {
   "codemirror_mode": {
    "name": "ipython",
    "version": 3
   },
   "file_extension": ".py",
   "mimetype": "text/x-python",
   "name": "python",
   "nbconvert_exporter": "python",
   "pygments_lexer": "ipython3",
   "version": "3.10.5"
  },
  "orig_nbformat": 4,
  "vscode": {
   "interpreter": {
    "hash": "9cbb33fb0dd98d60d7542c1e0a8ec9389a1bc71302aaca21e62e688716f63114"
   }
  }
 },
 "nbformat": 4,
 "nbformat_minor": 2
}
