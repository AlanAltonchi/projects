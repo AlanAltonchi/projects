{
 "cells": [
  {
   "cell_type": "markdown",
   "metadata": {},
   "source": [
    "# Solving Google Interview questions for fun\n",
    "\n",
    "You are looking to move to a new area, but you are looking to be close to some specific buildings.\n",
    "Create a function that takes in `Blocks` and `Reqs` and finds out which block would suit you best so that you're as close as possible to all the required buildings.\n",
    "\n",
    "**Blocks** consists of an array of `Objects` that define if certain `buildings` exist on that block or not.\n",
    "\n",
    "**Reqs** consists of an array of required buildings near/on the block we're looking for.\n",
    "\n",
    "**Example:**\n",
    "The function should return `3` if it is given the following `Reqs` and `Blocks` \n",
    "<br>since that is the index where you'd be close to all the required buildings: 1 step to a gym, 0 to a school, and 1 to a store.\n",
    "```python \n",
    "Reqs = [\"gym\", \"school\", \"store\"]\n",
    "```\n",
    "```python\n",
    "Blocks = [\n",
    "    {\n",
    "        \"gym\": False,\n",
    "        \"school\": True,\n",
    "        \"store\": False,\n",
    "    },\n",
    "    {\n",
    "        \"gym\": True,\n",
    "        \"school\": False,\n",
    "        \"store\": False,\n",
    "    },\n",
    "    {\n",
    "        \"gym\": True,\n",
    "        \"school\": True,\n",
    "        \"store\": False,\n",
    "    },\n",
    "    {\n",
    "        \"gym\": False,\n",
    "        \"school\": True,\n",
    "        \"store\": False,\n",
    "    },\n",
    "    {\n",
    "        \"gym\": False,\n",
    "        \"school\": True,\n",
    "        \"store\": True,\n",
    "    },\n",
    "]\n",
    "```"
   ]
  },
  {
   "cell_type": "code",
   "execution_count": 3,
   "metadata": {},
   "outputs": [],
   "source": [
    "Blocks = [\n",
    "    {\n",
    "        \"gym\": False,\n",
    "        \"school\": True,\n",
    "        \"store\": False,\n",
    "        \"university\": True,\n",
    "    },\n",
    "    {\n",
    "        \"gym\": True,\n",
    "        \"school\": False,\n",
    "        \"store\": False,\n",
    "        \"university\": False,\n",
    "    },\n",
    "    {\n",
    "        \"gym\": True,\n",
    "        \"school\": True,\n",
    "        \"store\": False,\n",
    "        \"university\": False,\n",
    "    },\n",
    "    {\n",
    "        \"gym\": False,\n",
    "        \"school\": True,\n",
    "        \"store\": False,\n",
    "        \"university\": False,\n",
    "    },\n",
    "    {\n",
    "        \"gym\": False,\n",
    "        \"school\": True,\n",
    "        \"store\": True,\n",
    "        \"university\": False,\n",
    "    },\n",
    "]"
   ]
  },
  {
   "cell_type": "code",
   "execution_count": 2,
   "metadata": {},
   "outputs": [],
   "source": [
    "def best_block(Blocks, Reqs):\n",
    "    distances = []\n",
    "    for i in range(len(Blocks)):\n",
    "        dst = []\n",
    "        for req in Reqs:\n",
    "            closest = 999\n",
    "            for j in range(len(Blocks)):\n",
    "                    closest = abs(j-i) if Blocks[j][req] == True and (abs(j-i) < closest) else closest\n",
    "            dst.append(closest)\n",
    "        distances.append(dst)\n",
    "        \n",
    "    best_block = {'index': -1, 'distance': 999}\n",
    "    for i,d in enumerate(distances):\n",
    "        if max(d) < best_block['distance']:\n",
    "            best_block['distance'] = max(d)\n",
    "            best_block['index'] = i\n",
    "    return best_block['index']\n",
    "            "
   ]
  },
  {
   "cell_type": "code",
   "execution_count": 5,
   "metadata": {},
   "outputs": [
    {
     "name": "stdout",
     "output_type": "stream",
     "text": [
      "The best Block is: 3\n"
     ]
    }
   ],
   "source": [
    "Reqs = [\"gym\", \"school\", \"store\"]\n",
    "print(f\"The best Block is: {best_block(Blocks, Reqs)}\")"
   ]
  }
 ],
 "metadata": {
  "kernelspec": {
   "display_name": "Python 3.10.5 64-bit",
   "language": "python",
   "name": "python3"
  },
  "language_info": {
   "codemirror_mode": {
    "name": "ipython",
    "version": 3
   },
   "file_extension": ".py",
   "mimetype": "text/x-python",
   "name": "python",
   "nbconvert_exporter": "python",
   "pygments_lexer": "ipython3",
   "version": "3.10.5"
  },
  "orig_nbformat": 4,
  "vscode": {
   "interpreter": {
    "hash": "9cbb33fb0dd98d60d7542c1e0a8ec9389a1bc71302aaca21e62e688716f63114"
   }
  }
 },
 "nbformat": 4,
 "nbformat_minor": 2
}
