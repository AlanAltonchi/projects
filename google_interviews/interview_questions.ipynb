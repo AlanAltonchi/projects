{
 "cells": [
  {
   "cell_type": "markdown",
   "metadata": {},
   "source": [
    "# Array plus one\n",
    "Create a function that takes in an array of numbers, adds one to the concatenated array and returns an array back.\n",
    "\n",
    "Example input: `[1,3,4,8]`\n",
    "<br>Example output: `[1,3,4,9]`"
   ]
  },
  {
   "cell_type": "code",
   "execution_count": 3,
   "metadata": {},
   "outputs": [],
   "source": [
    "def plus_one(arr):\n",
    "    number_string = \"\".join(str(n) for n in arr) # Convert from array to string\n",
    "    number_string_add = str(int(number_string) + 1) # Convert to int, add one, convert back to string\n",
    "    return [int(n) for n in number_string_add] # Convert to int, add to array and return"
   ]
  },
  {
   "cell_type": "code",
   "execution_count": 5,
   "metadata": {},
   "outputs": [
    {
     "name": "stdout",
     "output_type": "stream",
     "text": [
      "[1, 4, 0, 0]\n"
     ]
    }
   ],
   "source": [
    "print(plus_one([1,3,9,9]))"
   ]
  },
  {
   "cell_type": "markdown",
   "metadata": {},
   "source": [
    "# Best Block\n",
    "\n",
    "You are looking to move to a new area, but you are looking to be close to some specific buildings.\n",
    "Create a function that takes in `Blocks` and `Reqs` and finds out which block would suit you best so that you're as close as possible to all the required buildings.\n",
    "\n",
    "**Blocks** consists of an array of `Objects` that define if certain `buildings` exist on that block or not.\n",
    "\n",
    "**Reqs** consists of an array of required buildings near/on the block we're looking for.\n",
    "\n",
    "**Example:**\n",
    "The function should return `3` if it is given the following `Reqs` and `Blocks` \n",
    "<br>since that is the index where you'd be close to all the required buildings: 1 step to a gym, 0 to a school, and 1 to a store.\n",
    "```python \n",
    "Reqs = [\"gym\", \"school\", \"store\"]\n",
    "```\n",
    "```python\n",
    "Blocks = [\n",
    "    {\n",
    "        \"gym\": False,\n",
    "        \"school\": True,\n",
    "        \"store\": False,\n",
    "    },\n",
    "    {\n",
    "        \"gym\": True,\n",
    "        \"school\": False,\n",
    "        \"store\": False,\n",
    "    },\n",
    "    {\n",
    "        \"gym\": True,\n",
    "        \"school\": True,\n",
    "        \"store\": False,\n",
    "    },\n",
    "    {\n",
    "        \"gym\": False,\n",
    "        \"school\": True,\n",
    "        \"store\": False,\n",
    "    },\n",
    "    {\n",
    "        \"gym\": False,\n",
    "        \"school\": True,\n",
    "        \"store\": True,\n",
    "    },\n",
    "]\n",
    "```"
   ]
  },
  {
   "cell_type": "code",
   "execution_count": null,
   "metadata": {},
   "outputs": [],
   "source": [
    "Blocks = [\n",
    "    {\n",
    "        \"gym\": False,\n",
    "        \"school\": True,\n",
    "        \"store\": False,\n",
    "        \"university\": True,\n",
    "    },\n",
    "    {\n",
    "        \"gym\": True,\n",
    "        \"school\": False,\n",
    "        \"store\": False,\n",
    "        \"university\": False,\n",
    "    },\n",
    "    {\n",
    "        \"gym\": True,\n",
    "        \"school\": True,\n",
    "        \"store\": False,\n",
    "        \"university\": False,\n",
    "    },\n",
    "    {\n",
    "        \"gym\": False,\n",
    "        \"school\": True,\n",
    "        \"store\": False,\n",
    "        \"university\": False,\n",
    "    },\n",
    "    {\n",
    "        \"gym\": False,\n",
    "        \"school\": True,\n",
    "        \"store\": True,\n",
    "        \"university\": False,\n",
    "    },\n",
    "]"
   ]
  },
  {
   "cell_type": "code",
   "execution_count": null,
   "metadata": {},
   "outputs": [],
   "source": [
    "def best_block(Blocks, Reqs):\n",
    "    distances = []\n",
    "    for i in range(len(Blocks)):\n",
    "        dst = []\n",
    "        for req in Reqs:\n",
    "            closest = 999\n",
    "            for j in range(len(Blocks)):\n",
    "                    closest = abs(j-i) if Blocks[j][req] == True and (abs(j-i) < closest) else closest\n",
    "            dst.append(closest)\n",
    "        distances.append(dst)\n",
    "        \n",
    "    best_block = {'index': -1, 'distance': 999}\n",
    "    for i,d in enumerate(distances):\n",
    "        if max(d) < best_block['distance']:\n",
    "            best_block['distance'] = max(d)\n",
    "            best_block['index'] = i\n",
    "    return best_block['index']\n",
    "            "
   ]
  },
  {
   "cell_type": "code",
   "execution_count": null,
   "metadata": {},
   "outputs": [
    {
     "name": "stdout",
     "output_type": "stream",
     "text": [
      "The best Block is: 3\n"
     ]
    }
   ],
   "source": [
    "Reqs = [\"gym\", \"school\", \"store\"]\n",
    "print(f\"The best Block is: {best_block(Blocks, Reqs)}\")"
   ]
  },
  {
   "cell_type": "markdown",
   "metadata": {},
   "source": [
    "# Find Pair\n",
    "If any pair of numbers within the `ARR` add up to `SUM`, return `True`. Else return `False`"
   ]
  },
  {
   "cell_type": "code",
   "execution_count": null,
   "metadata": {},
   "outputs": [],
   "source": [
    "def find_pair(ARR, SUM):\n",
    "    return any(any(n1+n2==SUM for j, n2 in enumerate(ARR) if i != j) for i, n1 in enumerate(ARR))"
   ]
  },
  {
   "cell_type": "code",
   "execution_count": null,
   "metadata": {},
   "outputs": [
    {
     "name": "stdout",
     "output_type": "stream",
     "text": [
      "False\n",
      "True\n"
     ]
    }
   ],
   "source": [
    "print(find_pair([1,4,1,5],8))\n",
    "print(find_pair([5,9,1,3],8))"
   ]
  },
  {
   "cell_type": "markdown",
   "metadata": {},
   "source": [
    "# Return first recurring character in an array"
   ]
  },
  {
   "cell_type": "code",
   "execution_count": 11,
   "metadata": {},
   "outputs": [],
   "source": [
    "import itertools\n",
    "def first_recurring(arr):\n",
    "    return next((c1 for (i, c1), (j, c2) in itertools.product(enumerate(arr), enumerate(arr)) if i != j and c1 == c2), None)"
   ]
  },
  {
   "cell_type": "code",
   "execution_count": 14,
   "metadata": {},
   "outputs": [
    {
     "name": "stdout",
     "output_type": "stream",
     "text": [
      "A\n"
     ]
    }
   ],
   "source": [
    "print(first_recurring(['A','F','F','A']))"
   ]
  }
 ],
 "metadata": {
  "kernelspec": {
   "display_name": "Python 3.10.5 64-bit",
   "language": "python",
   "name": "python3"
  },
  "language_info": {
   "codemirror_mode": {
    "name": "ipython",
    "version": 3
   },
   "file_extension": ".py",
   "mimetype": "text/x-python",
   "name": "python",
   "nbconvert_exporter": "python",
   "pygments_lexer": "ipython3",
   "version": "3.10.5"
  },
  "orig_nbformat": 4,
  "vscode": {
   "interpreter": {
    "hash": "9cbb33fb0dd98d60d7542c1e0a8ec9389a1bc71302aaca21e62e688716f63114"
   }
  }
 },
 "nbformat": 4,
 "nbformat_minor": 2
}
