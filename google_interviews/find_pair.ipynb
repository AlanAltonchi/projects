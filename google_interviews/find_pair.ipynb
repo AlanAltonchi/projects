{
 "cells": [
  {
   "cell_type": "markdown",
   "metadata": {},
   "source": [
    "# Find Pair\n",
    "If any pair of numbers within the `ARR` add up to `SUM`, return `True`. Else return `False`"
   ]
  },
  {
   "cell_type": "code",
   "execution_count": 2,
   "metadata": {},
   "outputs": [],
   "source": [
    "def find_pair(ARR, SUM):\n",
    "    return any(any(n1+n2==SUM for j, n2 in enumerate(ARR) if i != j) for i, n1 in enumerate(ARR))"
   ]
  },
  {
   "cell_type": "code",
   "execution_count": 3,
   "metadata": {},
   "outputs": [
    {
     "name": "stdout",
     "output_type": "stream",
     "text": [
      "False\n",
      "True\n"
     ]
    }
   ],
   "source": [
    "print(find_pair([1,4,1,5],8))\n",
    "print(find_pair([5,9,1,3],8))"
   ]
  }
 ],
 "metadata": {
  "kernelspec": {
   "display_name": "Python 3.10.5 64-bit",
   "language": "python",
   "name": "python3"
  },
  "language_info": {
   "codemirror_mode": {
    "name": "ipython",
    "version": 3
   },
   "file_extension": ".py",
   "mimetype": "text/x-python",
   "name": "python",
   "nbconvert_exporter": "python",
   "pygments_lexer": "ipython3",
   "version": "3.10.5"
  },
  "orig_nbformat": 4,
  "vscode": {
   "interpreter": {
    "hash": "9cbb33fb0dd98d60d7542c1e0a8ec9389a1bc71302aaca21e62e688716f63114"
   }
  }
 },
 "nbformat": 4,
 "nbformat_minor": 2
}
