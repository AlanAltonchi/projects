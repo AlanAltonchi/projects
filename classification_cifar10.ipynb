{
 "cells": [
  {
   "cell_type": "markdown",
   "metadata": {},
   "source": [
    "## CIFAR10 small images classification By Alan Altonchi\n",
    "**Day 3 of learning how to use TensorFlow and what Machine Learning is**\n",
    "\n",
    "Dataset: https://keras.io/api/datasets/cifar10/\n",
    "\n",
    "This is a **Multi-Class Classification**, the inputs are 32x32 color images, the output is what the model predicts the image to be which can be anything between `0` and `9`\n",
    "\n",
    "`0`\tairplane\n",
    "\n",
    "`1`\tautomobile\n",
    "\n",
    "`2`\tbird\n",
    "\n",
    "`3`\tcat\n",
    "\n",
    "`4`\tdeer\n",
    "\n",
    "`5`\tdog\n",
    "\n",
    "`6`\tfrog\n",
    "\n",
    "`7`\thorse\n",
    "\n",
    "`8`\tship\n",
    "\n",
    "`9`\ttruck\n",
    "\n",
    "**Introduction:** Hello, my name is Alan, I am a passionate self-taught programmer that loves learning new things. This is my journey as I'm learning about **Machine Learning** and how to make use of its subfield **Deep Learning**. I will do so by learning how to use **TensorFlow** from scratch."
   ]
  },
  {
   "cell_type": "markdown",
   "metadata": {},
   "source": [
    "## Imports"
   ]
  },
  {
   "cell_type": "code",
   "execution_count": 1,
   "metadata": {},
   "outputs": [],
   "source": [
    "import tensorflow as tf\n",
    "from tensorflow import keras\n",
    "from keras import Sequential, losses, optimizers, callbacks, layers\n",
    "import matplotlib.pyplot as plt\n",
    "import random\n",
    "import pandas as pd"
   ]
  },
  {
   "cell_type": "markdown",
   "metadata": {},
   "source": [
    "## Gather data"
   ]
  },
  {
   "cell_type": "code",
   "execution_count": 2,
   "metadata": {},
   "outputs": [],
   "source": [
    "(train_data, train_labels), (test_data, test_labels) = tf.keras.datasets.cifar10.load_data()"
   ]
  },
  {
   "cell_type": "markdown",
   "metadata": {},
   "source": [
    "## Structure the data"
   ]
  },
  {
   "cell_type": "code",
   "execution_count": 3,
   "metadata": {},
   "outputs": [],
   "source": [
    "train_data, test_data = tf.constant(train_data), tf.constant(test_data)\n",
    "train_labels, test_labels = tf.squeeze(train_labels), tf.squeeze(test_labels)"
   ]
  },
  {
   "cell_type": "code",
   "execution_count": 4,
   "metadata": {},
   "outputs": [],
   "source": [
    "class_names = ['airplane',\n",
    "    'automobile',\n",
    "    'bird',\n",
    "    'cat',\n",
    "\t'deer',\n",
    "\t'dog',\n",
    "\t'frog',\n",
    "\t'horse',\n",
    "\t'ship',\n",
    "\t'truck']"
   ]
  },
  {
   "cell_type": "markdown",
   "metadata": {},
   "source": [
    "## Understand the data"
   ]
  },
  {
   "cell_type": "code",
   "execution_count": 5,
   "metadata": {},
   "outputs": [
    {
     "data": {
      "text/plain": [
       "<matplotlib.image.AxesImage at 0x23b405aa6e0>"
      ]
     },
     "execution_count": 5,
     "metadata": {},
     "output_type": "execute_result"
    },
    {
     "data": {
      "image/png": "[encoded data removed]",
      "text/plain": [
       "<Figure size 432x288 with 1 Axes>"
      ]
     },
     "metadata": {
      "needs_background": "light"
     },
     "output_type": "display_data"
    }
   ],
   "source": [
    "plt.imshow(train_data[0])"
   ]
  },
  {
   "cell_type": "code",
   "execution_count": 6,
   "metadata": {},
   "outputs": [
    {
     "data": {
      "text/plain": [
       "'frog'"
      ]
     },
     "execution_count": 6,
     "metadata": {},
     "output_type": "execute_result"
    }
   ],
   "source": [
    "class_names[train_labels[0]]"
   ]
  },
  {
   "cell_type": "code",
   "execution_count": 7,
   "metadata": {},
   "outputs": [
    {
     "data": {
      "text/plain": [
       "(TensorShape([32, 32, 3]), TensorShape([]))"
      ]
     },
     "execution_count": 7,
     "metadata": {},
     "output_type": "execute_result"
    }
   ],
   "source": [
    "train_data[0].shape, train_labels[0].shape"
   ]
  },
  {
   "cell_type": "markdown",
   "metadata": {},
   "source": [
    "## Normalize the data"
   ]
  },
  {
   "cell_type": "code",
   "execution_count": 8,
   "metadata": {},
   "outputs": [
    {
     "data": {
      "text/plain": [
       "255"
      ]
     },
     "execution_count": 8,
     "metadata": {},
     "output_type": "execute_result"
    }
   ],
   "source": [
    "train_data[0].numpy().max()"
   ]
  },
  {
   "cell_type": "code",
   "execution_count": 9,
   "metadata": {},
   "outputs": [],
   "source": [
    "train_data = tf.cast(train_data,tf.dtypes.float32) / 251.0\n",
    "test_data = tf.cast(test_data,tf.dtypes.float32) / 251.0"
   ]
  },
  {
   "cell_type": "code",
   "execution_count": 10,
   "metadata": {},
   "outputs": [
    {
     "data": {
      "text/plain": [
       "<tf.Tensor: shape=(5, 32, 3), dtype=float32, numpy=\n",
       "array([[[0.23505977, 0.24701196, 0.25099602],\n",
       "        [0.17131475, 0.18326694, 0.17928287],\n",
       "        [0.1992032 , 0.19123507, 0.17131475],\n",
       "        [0.27091634, 0.21513945, 0.16733068],\n",
       "        [0.39043826, 0.29083666, 0.20717132],\n",
       "        [0.4741036 , 0.3625498 , 0.25099602],\n",
       "        [0.55378485, 0.42629483, 0.2988048 ],\n",
       "        [0.57768923, 0.43824703, 0.3187251 ],\n",
       "        [0.5936255 , 0.46613547, 0.35458168],\n",
       "        [0.5936255 , 0.47808766, 0.37051794],\n",
       "        [0.52191234, 0.41035858, 0.30677292],\n",
       "        [0.49800798, 0.39442232, 0.30278885],\n",
       "        [0.56573707, 0.45816734, 0.3625498 ],\n",
       "        [0.5737052 , 0.44621515, 0.3426295 ],\n",
       "        [0.5458167 , 0.4183267 , 0.31474105],\n",
       "        [0.5139442 , 0.3864542 , 0.28286853],\n",
       "        [0.5458167 , 0.42231077, 0.31474105],\n",
       "        [0.53386456, 0.42231077, 0.30278885],\n",
       "        [0.49402392, 0.3864542 , 0.2549801 ],\n",
       "        [0.55378485, 0.45019922, 0.31075698],\n",
       "        [0.55378485, 0.44621515, 0.2988048 ],\n",
       "        [0.52988046, 0.4183267 , 0.2749004 ],\n",
       "        [0.5418327 , 0.4183267 , 0.29482073],\n",
       "        [0.55378485, 0.4302789 , 0.30677292],\n",
       "        [0.6055777 , 0.47808766, 0.35458168],\n",
       "        [0.6494024 , 0.52191234, 0.3984064 ],\n",
       "        [0.6693227 , 0.5418327 , 0.4302789 ],\n",
       "        [0.6334661 , 0.5139442 , 0.4063745 ],\n",
       "        [0.6294821 , 0.5179283 , 0.41434264],\n",
       "        [0.6294821 , 0.52589643, 0.4302789 ],\n",
       "        [0.6055777 , 0.49800798, 0.4063745 ],\n",
       "        [0.58964145, 0.49402392, 0.41035858]],\n",
       "\n",
       "       [[0.06374502, 0.07968128, 0.07968128],\n",
       "        [0.        , 0.        , 0.        ],\n",
       "        [0.07171315, 0.03187251, 0.        ],\n",
       "        [0.20318726, 0.10756972, 0.03187251],\n",
       "        [0.35059762, 0.20318726, 0.08366534],\n",
       "        [0.47808766, 0.32669324, 0.17131475],\n",
       "        [0.5099602 , 0.35458168, 0.17928287],\n",
       "        [0.5059761 , 0.3426295 , 0.17529881],\n",
       "        [0.50199205, 0.34661356, 0.1992032 ],\n",
       "        [0.4621514 , 0.31474105, 0.17529881],\n",
       "        [0.42231077, 0.27888447, 0.14741036],\n",
       "        [0.40239045, 0.26693228, 0.13944224],\n",
       "        [0.4183267 , 0.27888447, 0.1434263 ],\n",
       "        [0.45019922, 0.29482073, 0.13944224],\n",
       "        [0.43426296, 0.27888447, 0.13147411],\n",
       "        [0.44621515, 0.2868526 , 0.14741036],\n",
       "        [0.4741036 , 0.31474105, 0.17529881],\n",
       "        [0.43426296, 0.28286853, 0.13147411],\n",
       "        [0.4183267 , 0.2749004 , 0.10756972],\n",
       "        [0.49800798, 0.35458168, 0.18326694],\n",
       "        [0.5059761 , 0.36653388, 0.18326694],\n",
       "        [0.4860558 , 0.33864543, 0.15537849],\n",
       "        [0.52191234, 0.35458168, 0.187251  ],\n",
       "        [0.49402392, 0.32669324, 0.16334662],\n",
       "        [0.48207173, 0.31474105, 0.14741036],\n",
       "        [0.52191234, 0.35458168, 0.19123507],\n",
       "        [0.52589643, 0.3625498 , 0.21115538],\n",
       "        [0.52988046, 0.374502  , 0.2310757 ],\n",
       "        [0.52988046, 0.38247013, 0.23904383],\n",
       "        [0.49003986, 0.35059762, 0.21912351],\n",
       "        [0.4741036 , 0.3306773 , 0.1992032 ],\n",
       "        [0.4860558 , 0.34661356, 0.22709164]],\n",
       "\n",
       "       [[0.0996016 , 0.09561753, 0.08366534],\n",
       "        [0.06374502, 0.02788845, 0.        ],\n",
       "        [0.19521913, 0.10756972, 0.03187251],\n",
       "        [0.3306773 , 0.1992032 , 0.09163347],\n",
       "        [0.43824703, 0.2868526 , 0.16334662],\n",
       "        [0.5139442 , 0.36653388, 0.21513945],\n",
       "        [0.5179283 , 0.37051794, 0.21912351],\n",
       "        [0.48207173, 0.32669324, 0.187251  ],\n",
       "        [0.45019922, 0.30677292, 0.17131475],\n",
       "        [0.44621515, 0.31075698, 0.17529881],\n",
       "        [0.44621515, 0.31474105, 0.18326694],\n",
       "        [0.42231077, 0.2988048 , 0.17928287],\n",
       "        [0.4183267 , 0.29083666, 0.15139443],\n",
       "        [0.5099602 , 0.36653388, 0.19123507],\n",
       "        [0.49402392, 0.34661356, 0.187251  ],\n",
       "        [0.5179283 , 0.36653388, 0.22310758],\n",
       "        [0.5059761 , 0.35458168, 0.22310758],\n",
       "        [0.4860558 , 0.33864543, 0.20318726],\n",
       "        [0.45816734, 0.31474105, 0.17131475],\n",
       "        [0.47808766, 0.33864543, 0.187251  ],\n",
       "        [0.5179283 , 0.37848607, 0.21513945],\n",
       "        [0.52191234, 0.38247013, 0.21912351],\n",
       "        [0.55378485, 0.4063745 , 0.24701196],\n",
       "        [0.5059761 , 0.35856575, 0.20318726],\n",
       "        [0.50199205, 0.35458168, 0.19521913],\n",
       "        [0.5059761 , 0.35458168, 0.1992032 ],\n",
       "        [0.5179283 , 0.36653388, 0.21115538],\n",
       "        [0.56573707, 0.4183267 , 0.27091634],\n",
       "        [0.5179283 , 0.374502  , 0.2310757 ],\n",
       "        [0.47011954, 0.33466136, 0.1992032 ],\n",
       "        [0.47808766, 0.33466136, 0.1992032 ],\n",
       "        [0.43426296, 0.29083666, 0.16733068]],\n",
       "\n",
       "       [[0.13147411, 0.0996016 , 0.06772909],\n",
       "        [0.15139443, 0.07968128, 0.01593626],\n",
       "        [0.34661356, 0.21513945, 0.0996016 ],\n",
       "        [0.42231077, 0.25099602, 0.11155379],\n",
       "        [0.45816734, 0.27888447, 0.13147411],\n",
       "        [0.46613547, 0.29482073, 0.13944224],\n",
       "        [0.45418328, 0.2868526 , 0.14741036],\n",
       "        [0.4183267 , 0.24701196, 0.13147411],\n",
       "        [0.42629483, 0.27091634, 0.13147411],\n",
       "        [0.48207173, 0.33466136, 0.17928287],\n",
       "        [0.49800798, 0.35856575, 0.21115538],\n",
       "        [0.43426296, 0.2988048 , 0.15936255],\n",
       "        [0.45019922, 0.30677292, 0.15139443],\n",
       "        [0.5816733 , 0.4183267 , 0.2310757 ],\n",
       "        [0.52988046, 0.3625498 , 0.187251  ],\n",
       "        [0.5059761 , 0.33466136, 0.17928287],\n",
       "        [0.47011954, 0.30278885, 0.15936255],\n",
       "        [0.46613547, 0.30278885, 0.16334662],\n",
       "        [0.5059761 , 0.34661356, 0.20717132],\n",
       "        [0.4860558 , 0.32270917, 0.17131475],\n",
       "        [0.52589643, 0.36653388, 0.20318726],\n",
       "        [0.5458167 , 0.39442232, 0.2310757 ],\n",
       "        [0.5418327 , 0.39442232, 0.22709164],\n",
       "        [0.52191234, 0.37051794, 0.20717132],\n",
       "        [0.49402392, 0.3426295 , 0.17529881],\n",
       "        [0.5179283 , 0.3625498 , 0.1992032 ],\n",
       "        [0.52589643, 0.35856575, 0.19521913],\n",
       "        [0.5378486 , 0.37051794, 0.20318726],\n",
       "        [0.5179283 , 0.35856575, 0.1992032 ],\n",
       "        [0.49800798, 0.34661356, 0.1992032 ],\n",
       "        [0.48207173, 0.33864543, 0.19123507],\n",
       "        [0.374502  , 0.24701196, 0.13944224]],\n",
       "\n",
       "       [[0.1992032 , 0.12749004, 0.08366534],\n",
       "        [0.23505977, 0.12749004, 0.0438247 ],\n",
       "        [0.4063745 , 0.25896415, 0.13545817],\n",
       "        [0.5059761 , 0.31474105, 0.15537849],\n",
       "        [0.49402392, 0.30677292, 0.1434263 ],\n",
       "        [0.48207173, 0.30677292, 0.1434263 ],\n",
       "        [0.47808766, 0.31075698, 0.15936255],\n",
       "        [0.45418328, 0.29482073, 0.15537849],\n",
       "        [0.42629483, 0.2868526 , 0.13545817],\n",
       "        [0.49800798, 0.35059762, 0.19521913],\n",
       "        [0.5139442 , 0.35458168, 0.20318726],\n",
       "        [0.42231077, 0.27091634, 0.12350598],\n",
       "        [0.4302789 , 0.28286853, 0.13147411],\n",
       "        [0.49402392, 0.3306773 , 0.16733068],\n",
       "        [0.48207173, 0.31075698, 0.15537849],\n",
       "        [0.4302789 , 0.27091634, 0.11553785],\n",
       "        [0.39043826, 0.25896415, 0.09163347],\n",
       "        [0.43824703, 0.29482073, 0.14741036],\n",
       "        [0.46613547, 0.3187251 , 0.19521913],\n",
       "        [0.47808766, 0.3187251 , 0.16334662],\n",
       "        [0.53386456, 0.37051794, 0.1992032 ],\n",
       "        [0.55776894, 0.42231077, 0.26294822],\n",
       "        [0.52191234, 0.37848607, 0.2310757 ],\n",
       "        [0.561753  , 0.39043826, 0.26294822],\n",
       "        [0.5378486 , 0.36653388, 0.20318726],\n",
       "        [0.5059761 , 0.33466136, 0.17928287],\n",
       "        [0.48207173, 0.31474105, 0.16334662],\n",
       "        [0.4741036 , 0.31474105, 0.15936255],\n",
       "        [0.41035858, 0.26693228, 0.12749004],\n",
       "        [0.34661356, 0.22709164, 0.10756972],\n",
       "        [0.2988048 , 0.187251  , 0.09163347],\n",
       "        [0.26693228, 0.16733068, 0.0996016 ]]], dtype=float32)>"
      ]
     },
     "execution_count": 10,
     "metadata": {},
     "output_type": "execute_result"
    }
   ],
   "source": [
    "train_data[0][:5]"
   ]
  },
  {
   "cell_type": "markdown",
   "metadata": {},
   "source": [
    "## Create the model"
   ]
  },
  {
   "cell_type": "code",
   "execution_count": 13,
   "metadata": {},
   "outputs": [],
   "source": [
    "model = Sequential([\n",
    "    layers.Flatten(input_shape=(32, 32, 3)),\n",
    "    layers.Dense(100, activation='relu'),\n",
    "    layers.Dense(100, activation='relu'),\n",
    "    layers.Dense(100, activation='relu'),\n",
    "    layers.Dense(100, activation='relu'),\n",
    "    layers.Dense(10, activation='softmax')\n",
    "])\n",
    "\n",
    "model.compile(loss=losses.SparseCategoricalCrossentropy(),\n",
    "              optimizer=optimizers.Adam(),\n",
    "              metrics='accuracy')"
   ]
  },
  {
   "cell_type": "code",
   "execution_count": 14,
   "metadata": {},
   "outputs": [
    {
     "name": "stdout",
     "output_type": "stream",
     "text": [
      "Epoch 1/50\n",
      "1563/1563 [==============================] - 3s 2ms/step - loss: 1.8805 - accuracy: 0.3125 - val_loss: 1.7576 - val_accuracy: 0.3661\n",
      "Epoch 2/50\n",
      "1563/1563 [==============================] - 3s 2ms/step - loss: 1.7212 - accuracy: 0.3772 - val_loss: 1.6638 - val_accuracy: 0.3947\n",
      "Epoch 3/50\n",
      "1563/1563 [==============================] - 4s 2ms/step - loss: 1.6340 - accuracy: 0.4109 - val_loss: 1.5766 - val_accuracy: 0.4319\n",
      "Epoch 4/50\n",
      "1563/1563 [==============================] - 3s 2ms/step - loss: 1.5862 - accuracy: 0.4273 - val_loss: 1.6062 - val_accuracy: 0.4275\n",
      "Epoch 5/50\n",
      "1563/1563 [==============================] - 3s 2ms/step - loss: 1.5466 - accuracy: 0.4410 - val_loss: 1.5230 - val_accuracy: 0.4515\n",
      "Epoch 6/50\n",
      "1563/1563 [==============================] - 3s 2ms/step - loss: 1.5170 - accuracy: 0.4540 - val_loss: 1.5015 - val_accuracy: 0.4576\n",
      "Epoch 7/50\n",
      "1563/1563 [==============================] - 3s 2ms/step - loss: 1.4909 - accuracy: 0.4643 - val_loss: 1.5343 - val_accuracy: 0.4550\n",
      "Epoch 8/50\n",
      "1563/1563 [==============================] - 3s 2ms/step - loss: 1.4689 - accuracy: 0.4723 - val_loss: 1.5306 - val_accuracy: 0.4557\n",
      "Epoch 9/50\n",
      "1563/1563 [==============================] - 3s 2ms/step - loss: 1.4547 - accuracy: 0.4771 - val_loss: 1.5171 - val_accuracy: 0.4623\n",
      "Epoch 10/50\n",
      "1563/1563 [==============================] - 3s 2ms/step - loss: 1.4332 - accuracy: 0.4836 - val_loss: 1.5019 - val_accuracy: 0.4712\n",
      "Epoch 11/50\n",
      "1563/1563 [==============================] - 3s 2ms/step - loss: 1.4207 - accuracy: 0.4858 - val_loss: 1.5300 - val_accuracy: 0.4573\n",
      "Epoch 12/50\n",
      "1563/1563 [==============================] - 3s 2ms/step - loss: 1.4063 - accuracy: 0.4927 - val_loss: 1.4758 - val_accuracy: 0.4730\n",
      "Epoch 13/50\n",
      "1563/1563 [==============================] - 3s 2ms/step - loss: 1.3934 - accuracy: 0.5005 - val_loss: 1.5463 - val_accuracy: 0.4608\n",
      "Epoch 14/50\n",
      "1563/1563 [==============================] - 3s 2ms/step - loss: 1.3789 - accuracy: 0.5045 - val_loss: 1.4871 - val_accuracy: 0.4732\n",
      "Epoch 15/50\n",
      "1563/1563 [==============================] - 3s 2ms/step - loss: 1.3656 - accuracy: 0.5062 - val_loss: 1.4855 - val_accuracy: 0.4773\n",
      "Epoch 16/50\n",
      "1563/1563 [==============================] - 3s 2ms/step - loss: 1.3503 - accuracy: 0.5157 - val_loss: 1.5267 - val_accuracy: 0.4709\n",
      "Epoch 17/50\n",
      "1563/1563 [==============================] - 3s 2ms/step - loss: 1.3435 - accuracy: 0.5148 - val_loss: 1.4604 - val_accuracy: 0.4829\n",
      "Epoch 18/50\n",
      "1563/1563 [==============================] - 3s 2ms/step - loss: 1.3356 - accuracy: 0.5190 - val_loss: 1.4739 - val_accuracy: 0.4854\n",
      "Epoch 19/50\n",
      "1563/1563 [==============================] - 3s 2ms/step - loss: 1.3272 - accuracy: 0.5194 - val_loss: 1.4726 - val_accuracy: 0.4820\n",
      "Epoch 20/50\n",
      "1563/1563 [==============================] - 3s 2ms/step - loss: 1.3137 - accuracy: 0.5261 - val_loss: 1.4676 - val_accuracy: 0.4855\n",
      "Epoch 21/50\n",
      "1563/1563 [==============================] - 3s 2ms/step - loss: 1.3092 - accuracy: 0.5271 - val_loss: 1.4516 - val_accuracy: 0.4901\n",
      "Epoch 22/50\n",
      "1563/1563 [==============================] - 3s 2ms/step - loss: 1.2917 - accuracy: 0.5348 - val_loss: 1.5132 - val_accuracy: 0.4699\n",
      "Epoch 23/50\n",
      "1563/1563 [==============================] - 3s 2ms/step - loss: 1.2849 - accuracy: 0.5357 - val_loss: 1.4861 - val_accuracy: 0.4727\n",
      "Epoch 24/50\n",
      "1563/1563 [==============================] - 3s 2ms/step - loss: 1.2779 - accuracy: 0.5377 - val_loss: 1.5174 - val_accuracy: 0.4725\n",
      "Epoch 25/50\n",
      "1563/1563 [==============================] - 3s 2ms/step - loss: 1.2757 - accuracy: 0.5368 - val_loss: 1.5065 - val_accuracy: 0.4750\n",
      "Epoch 26/50\n",
      "1563/1563 [==============================] - 3s 2ms/step - loss: 1.2663 - accuracy: 0.5445 - val_loss: 1.4682 - val_accuracy: 0.4873\n",
      "Epoch 27/50\n",
      "1563/1563 [==============================] - 3s 2ms/step - loss: 1.2594 - accuracy: 0.5440 - val_loss: 1.4999 - val_accuracy: 0.4808\n",
      "Epoch 28/50\n",
      "1563/1563 [==============================] - 3s 2ms/step - loss: 1.2529 - accuracy: 0.5449 - val_loss: 1.5438 - val_accuracy: 0.4636\n",
      "Epoch 29/50\n",
      "1563/1563 [==============================] - 3s 2ms/step - loss: 1.2435 - accuracy: 0.5496 - val_loss: 1.4678 - val_accuracy: 0.4947\n",
      "Epoch 30/50\n",
      "1563/1563 [==============================] - 3s 2ms/step - loss: 1.2359 - accuracy: 0.5513 - val_loss: 1.4714 - val_accuracy: 0.4838\n",
      "Epoch 31/50\n",
      "1563/1563 [==============================] - 3s 2ms/step - loss: 1.2290 - accuracy: 0.5546 - val_loss: 1.5131 - val_accuracy: 0.4837\n",
      "Epoch 32/50\n",
      "1563/1563 [==============================] - 3s 2ms/step - loss: 1.2262 - accuracy: 0.5552 - val_loss: 1.5227 - val_accuracy: 0.4840\n",
      "Epoch 33/50\n",
      "1563/1563 [==============================] - 3s 2ms/step - loss: 1.2183 - accuracy: 0.5588 - val_loss: 1.5069 - val_accuracy: 0.4773\n",
      "Epoch 34/50\n",
      "1563/1563 [==============================] - 3s 2ms/step - loss: 1.2174 - accuracy: 0.5585 - val_loss: 1.5042 - val_accuracy: 0.4821\n",
      "Epoch 35/50\n",
      "1563/1563 [==============================] - 3s 2ms/step - loss: 1.2060 - accuracy: 0.5620 - val_loss: 1.4956 - val_accuracy: 0.4929\n",
      "Epoch 36/50\n",
      "1563/1563 [==============================] - 3s 2ms/step - loss: 1.1978 - accuracy: 0.5669 - val_loss: 1.5197 - val_accuracy: 0.4833\n",
      "Epoch 37/50\n",
      "1563/1563 [==============================] - 3s 2ms/step - loss: 1.1989 - accuracy: 0.5669 - val_loss: 1.4909 - val_accuracy: 0.4930\n",
      "Epoch 38/50\n",
      "1563/1563 [==============================] - 3s 2ms/step - loss: 1.1926 - accuracy: 0.5691 - val_loss: 1.5344 - val_accuracy: 0.4800\n",
      "Epoch 39/50\n",
      "1563/1563 [==============================] - 3s 2ms/step - loss: 1.1892 - accuracy: 0.5684 - val_loss: 1.5578 - val_accuracy: 0.4814\n",
      "Epoch 40/50\n",
      "1563/1563 [==============================] - 3s 2ms/step - loss: 1.1802 - accuracy: 0.5694 - val_loss: 1.5578 - val_accuracy: 0.4737\n",
      "Epoch 41/50\n",
      "1563/1563 [==============================] - 3s 2ms/step - loss: 1.1769 - accuracy: 0.5738 - val_loss: 1.5396 - val_accuracy: 0.4782\n",
      "Epoch 42/50\n",
      "1563/1563 [==============================] - 3s 2ms/step - loss: 1.1686 - accuracy: 0.5751 - val_loss: 1.5708 - val_accuracy: 0.4701\n",
      "Epoch 43/50\n",
      "1563/1563 [==============================] - 3s 2ms/step - loss: 1.1705 - accuracy: 0.5755 - val_loss: 1.5519 - val_accuracy: 0.4842\n",
      "Epoch 44/50\n",
      "1563/1563 [==============================] - 3s 2ms/step - loss: 1.1662 - accuracy: 0.5757 - val_loss: 1.5840 - val_accuracy: 0.4767\n",
      "Epoch 45/50\n",
      "1563/1563 [==============================] - 3s 2ms/step - loss: 1.1599 - accuracy: 0.5779 - val_loss: 1.5443 - val_accuracy: 0.4835\n",
      "Epoch 46/50\n",
      "1563/1563 [==============================] - 3s 2ms/step - loss: 1.1543 - accuracy: 0.5825 - val_loss: 1.5417 - val_accuracy: 0.4877\n",
      "Epoch 47/50\n",
      "1563/1563 [==============================] - 3s 2ms/step - loss: 1.1480 - accuracy: 0.5833 - val_loss: 1.5549 - val_accuracy: 0.4823\n",
      "Epoch 48/50\n",
      "1563/1563 [==============================] - 3s 2ms/step - loss: 1.1477 - accuracy: 0.5850 - val_loss: 1.5972 - val_accuracy: 0.4827\n",
      "Epoch 49/50\n",
      "1563/1563 [==============================] - 3s 2ms/step - loss: 1.1439 - accuracy: 0.5860 - val_loss: 1.6043 - val_accuracy: 0.4854\n",
      "Epoch 50/50\n",
      "1563/1563 [==============================] - 3s 2ms/step - loss: 1.1350 - accuracy: 0.5874 - val_loss: 1.5782 - val_accuracy: 0.4749\n"
     ]
    }
   ],
   "source": [
    "history = model.fit(train_data, \n",
    "                    train_labels, \n",
    "                    epochs=50,\n",
    "                    validation_data=(test_data, test_labels))"
   ]
  },
  {
   "cell_type": "code",
   "execution_count": 15,
   "metadata": {},
   "outputs": [
    {
     "name": "stdout",
     "output_type": "stream",
     "text": [
      "313/313 [==============================] - 0s 1ms/step - loss: 1.5782 - accuracy: 0.4749\n"
     ]
    },
    {
     "data": {
      "text/plain": [
       "[1.578156590461731, 0.4749000072479248]"
      ]
     },
     "execution_count": 15,
     "metadata": {},
     "output_type": "execute_result"
    }
   ],
   "source": [
    "model.evaluate(test_data, test_labels)"
   ]
  },
  {
   "cell_type": "markdown",
   "metadata": {},
   "source": [
    "I cannot reach over 50% accuracy, further experimentation required..."
   ]
  }
 ],
 "metadata": {
  "kernelspec": {
   "display_name": "Python 3.10.5 64-bit",
   "language": "python",
   "name": "python3"
  },
  "language_info": {
   "codemirror_mode": {
    "name": "ipython",
    "version": 3
   },
   "file_extension": ".py",
   "mimetype": "text/x-python",
   "name": "python",
   "nbconvert_exporter": "python",
   "pygments_lexer": "ipython3",
   "version": "3.10.5"
  },
  "orig_nbformat": 4,
  "vscode": {
   "interpreter": {
    "hash": "9cbb33fb0dd98d60d7542c1e0a8ec9389a1bc71302aaca21e62e688716f63114"
   }
  }
 },
 "nbformat": 4,
 "nbformat_minor": 2
}
