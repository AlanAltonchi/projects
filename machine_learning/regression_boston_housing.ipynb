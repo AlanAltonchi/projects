{
 "cells": [
  {
   "cell_type": "markdown",
   "metadata": {},
   "source": [
    "## Boston Housing Regression Model By Alan Altonchi\n",
    "**Day 2 of learning how to use TensorFlow and what Machine Learning is**\n",
    "\n",
    "Dataset: https://keras.io/api/datasets/boston_housing/\n",
    "\n",
    "This is a **Binary Classification** because the output is only one value, the prediction of the `Median value of owner-occupied homes in $1000's`\n",
    "\n",
    "**Introduction:** Hello, my name is Alan, I am a passionate self-taught programmer that loves learning new things. This is my journey as I'm learning about **Machine Learning** and how to make use of its subfield **Deep Learning**. I will do so by learning how to use **TensorFlow** from scratch."
   ]
  },
  {
   "cell_type": "markdown",
   "metadata": {},
   "source": [
    "### Imports"
   ]
  },
  {
   "cell_type": "code",
   "execution_count": 1,
   "metadata": {},
   "outputs": [],
   "source": [
    "import tensorflow as tf\n",
    "from tensorflow import keras\n",
    "import numpy as np\n",
    "import pandas as pd\n",
    "from sklearn.preprocessing import MinMaxScaler\n",
    "from IPython.display import display\n",
    "from keras import Sequential, losses, optimizers, callbacks, layers\n",
    "from sklearn.metrics import r2_score"
   ]
  },
  {
   "cell_type": "markdown",
   "metadata": {},
   "source": [
    "#### Helpful Functions"
   ]
  },
  {
   "cell_type": "code",
   "execution_count": 7,
   "metadata": {},
   "outputs": [],
   "source": [
    "def displayResults(labels, predictions, evaluations):\n",
    "    (y_train, y_test) = labels\n",
    "    (y_train_predict, y_test_predict) = predictions\n",
    "    (eval_train, eval_test) = evaluations\n",
    "    rmse = (np.sqrt(tf.metrics.mean_squared_error(tf.constant(y_train), tf.squeeze(y_train_predict))))\n",
    "    r2 = r2_score(y_train,y_train_predict)\n",
    "    \n",
    "    rmse_test = (np.sqrt(tf.metrics.mean_squared_error(tf.constant(y_test), tf.squeeze(y_test_predict))))\n",
    "    r2_test = r2_score(y_test,y_test_predict)\n",
    "\n",
    "    \n",
    "    model_results = [[\"Training\", rmse, r2, eval_train[0], eval_train[1]],\n",
    "                    [\"Test\", rmse_test, r2_test, eval_test[0], eval_test[1]]]\n",
    "\n",
    "    all_results = pd.DataFrame(model_results, columns=[\"Set\", \"RMSE\", \"R2\", \"Loss\", \"MAE\"])\n",
    "    display(all_results)"
   ]
  },
  {
   "cell_type": "markdown",
   "metadata": {},
   "source": [
    "#### Get the data & normalize it"
   ]
  },
  {
   "cell_type": "code",
   "execution_count": 2,
   "metadata": {},
   "outputs": [],
   "source": [
    "(X_train, y_train), (X_test, y_test) = keras.datasets.boston_housing.load_data(test_split=0.2, seed=42)\n",
    "ct = MinMaxScaler()\n",
    "ct.fit(X_train)\n",
    "X_train = tf.constant(ct.transform(X_train))\n",
    "X_test = tf.constant(ct.transform(X_test))\n",
    "y_train = tf.constant(y_train)\n",
    "y_test = tf.constant(y_test)"
   ]
  },
  {
   "cell_type": "markdown",
   "metadata": {},
   "source": [
    "#### Create the model\n",
    "\n",
    "**Sequential: Layer & Neuron Setup**\n",
    "* `Input` 13 neurons because our data has 13 attributes\n",
    "* `Output` 1 neuron because we're only interested in one value\n",
    "* Estimation of neurons in hidden layers = (Input/Output)/2 = 7\n",
    "* Try expanding the hidden layers until the model no longer improves\n",
    "* Try different neuron combinations in the hidden layers while staying around 7\n",
    "\n",
    "**Dense Layers**\n",
    "* Activation `relu` seems to give good results"
   ]
  },
  {
   "cell_type": "code",
   "execution_count": 8,
   "metadata": {},
   "outputs": [],
   "source": [
    "model = Sequential([\n",
    "    layers.Dense(13),\n",
    "    layers.Dense(6, activation='relu'),\n",
    "    layers.Dense(2, activation='relu'),\n",
    "    layers.Dense(1)\n",
    "])\n",
    "\n",
    "model.compile(loss=losses.huber,\n",
    "              optimizer=optimizers.Adam(learning_rate=0.1),\n",
    "              metrics=['mae'])\n",
    "\n",
    "# Early stopping callback\n",
    "early_stopping_callback = callbacks.EarlyStopping(monitor='loss', patience=50)\n"
   ]
  },
  {
   "cell_type": "markdown",
   "metadata": {},
   "source": [
    "#### Train & Visualize"
   ]
  },
  {
   "cell_type": "code",
   "execution_count": 16,
   "metadata": {},
   "outputs": [
    {
     "name": "stdout",
     "output_type": "stream",
     "text": [
      "13/13 [==============================] - 0s 711us/step\n",
      "4/4 [==============================] - 0s 1ms/step\n",
      "13/13 [==============================] - 0s 1ms/step - loss: 2.2122 - mae: 2.6547\n",
      "4/4 [==============================] - 0s 1ms/step - loss: 2.5915 - mae: 3.0525\n"
     ]
    },
    {
     "data": {
      "text/html": [
       "<div>\n",
       "<style scoped>\n",
       "    .dataframe tbody tr th:only-of-type {\n",
       "        vertical-align: middle;\n",
       "    }\n",
       "\n",
       "    .dataframe tbody tr th {\n",
       "        vertical-align: top;\n",
       "    }\n",
       "\n",
       "    .dataframe thead th {\n",
       "        text-align: right;\n",
       "    }\n",
       "</style>\n",
       "<table border=\"1\" class=\"dataframe\">\n",
       "  <thead>\n",
       "    <tr style=\"text-align: right;\">\n",
       "      <th></th>\n",
       "      <th>Set</th>\n",
       "      <th>RMSE</th>\n",
       "      <th>R2</th>\n",
       "      <th>Loss</th>\n",
       "      <th>MAE</th>\n",
       "    </tr>\n",
       "  </thead>\n",
       "  <tbody>\n",
       "    <tr>\n",
       "      <th>0</th>\n",
       "      <td>Training</td>\n",
       "      <td>4.385162</td>\n",
       "      <td>0.780866</td>\n",
       "      <td>2.212242</td>\n",
       "      <td>2.654651</td>\n",
       "    </tr>\n",
       "    <tr>\n",
       "      <th>1</th>\n",
       "      <td>Test</td>\n",
       "      <td>5.020238</td>\n",
       "      <td>0.646038</td>\n",
       "      <td>2.591544</td>\n",
       "      <td>3.052538</td>\n",
       "    </tr>\n",
       "  </tbody>\n",
       "</table>\n",
       "</div>"
      ],
      "text/plain": [
       "        Set      RMSE        R2      Loss       MAE\n",
       "0  Training  4.385162  0.780866  2.212242  2.654651\n",
       "1      Test  5.020238  0.646038  2.591544  3.052538"
      ]
     },
     "metadata": {},
     "output_type": "display_data"
    }
   ],
   "source": [
    "# Fit the model\n",
    "model.fit(X_train, y_train, epochs=1500,callbacks=[early_stopping_callback], verbose=0)\n",
    "# Grab the labels so we can pass them to displayResults\n",
    "labels = (y_train, y_test)\n",
    "# Run predictions on the training & test data\n",
    "predictions = (model.predict(X_train), model.predict(X_test))\n",
    "# Run evaluations on the training & test data\n",
    "evaluations = (model.evaluate(X_train,y_train), model.evaluate(X_test,y_test))\n",
    "\n",
    "displayResults(labels, predictions, evaluations)"
   ]
  },
  {
   "cell_type": "markdown",
   "metadata": {},
   "source": [
    "#### Only Visualize"
   ]
  },
  {
   "cell_type": "code",
   "execution_count": 10,
   "metadata": {},
   "outputs": [
    {
     "data": {
      "text/html": [
       "<div>\n",
       "<style scoped>\n",
       "    .dataframe tbody tr th:only-of-type {\n",
       "        vertical-align: middle;\n",
       "    }\n",
       "\n",
       "    .dataframe tbody tr th {\n",
       "        vertical-align: top;\n",
       "    }\n",
       "\n",
       "    .dataframe thead th {\n",
       "        text-align: right;\n",
       "    }\n",
       "</style>\n",
       "<table border=\"1\" class=\"dataframe\">\n",
       "  <thead>\n",
       "    <tr style=\"text-align: right;\">\n",
       "      <th></th>\n",
       "      <th>Set</th>\n",
       "      <th>RMSE</th>\n",
       "      <th>R2</th>\n",
       "      <th>Loss</th>\n",
       "      <th>MAE</th>\n",
       "    </tr>\n",
       "  </thead>\n",
       "  <tbody>\n",
       "    <tr>\n",
       "      <th>0</th>\n",
       "      <td>Training</td>\n",
       "      <td>4.389080</td>\n",
       "      <td>0.780475</td>\n",
       "      <td>2.083384</td>\n",
       "      <td>2.525604</td>\n",
       "    </tr>\n",
       "    <tr>\n",
       "      <th>1</th>\n",
       "      <td>Test</td>\n",
       "      <td>4.455677</td>\n",
       "      <td>0.721173</td>\n",
       "      <td>2.209687</td>\n",
       "      <td>2.665016</td>\n",
       "    </tr>\n",
       "  </tbody>\n",
       "</table>\n",
       "</div>"
      ],
      "text/plain": [
       "        Set      RMSE        R2      Loss       MAE\n",
       "0  Training  4.389080  0.780475  2.083384  2.525604\n",
       "1      Test  4.455677  0.721173  2.209687  2.665016"
      ]
     },
     "metadata": {},
     "output_type": "display_data"
    }
   ],
   "source": [
    "displayResults(labels, predictions, evaluations)"
   ]
  },
  {
   "cell_type": "markdown",
   "metadata": {},
   "source": [
    "#### Results\n",
    "**Lowest results achieved:**\n",
    "\n",
    "| Set | RMSE | R2 | Loss | MAE |\n",
    "| --- | --- | --- | --- | --- |\n",
    "|Training|3.923683|0.824561|2.060028|2.520303|\n",
    "|Test|4.414260|0.726332|2.379971|2.850348|"
   ]
  },
  {
   "cell_type": "code",
   "execution_count": 14,
   "metadata": {},
   "outputs": [
    {
     "data": {
      "text/html": [
       "<div>\n",
       "<style scoped>\n",
       "    .dataframe tbody tr th:only-of-type {\n",
       "        vertical-align: middle;\n",
       "    }\n",
       "\n",
       "    .dataframe tbody tr th {\n",
       "        vertical-align: top;\n",
       "    }\n",
       "\n",
       "    .dataframe thead th {\n",
       "        text-align: right;\n",
       "    }\n",
       "</style>\n",
       "<table border=\"1\" class=\"dataframe\">\n",
       "  <thead>\n",
       "    <tr style=\"text-align: right;\">\n",
       "      <th></th>\n",
       "      <th>Set</th>\n",
       "      <th>RMSE</th>\n",
       "      <th>R2</th>\n",
       "      <th>Loss</th>\n",
       "      <th>MAE</th>\n",
       "    </tr>\n",
       "  </thead>\n",
       "  <tbody>\n",
       "    <tr>\n",
       "      <th>0</th>\n",
       "      <td>Training</td>\n",
       "      <td>3.923683</td>\n",
       "      <td>0.824561</td>\n",
       "      <td>2.060028</td>\n",
       "      <td>2.520303</td>\n",
       "    </tr>\n",
       "    <tr>\n",
       "      <th>1</th>\n",
       "      <td>Test</td>\n",
       "      <td>4.414260</td>\n",
       "      <td>0.726332</td>\n",
       "      <td>2.379971</td>\n",
       "      <td>2.850348</td>\n",
       "    </tr>\n",
       "  </tbody>\n",
       "</table>\n",
       "</div>"
      ],
      "text/plain": [
       "        Set      RMSE        R2      Loss       MAE\n",
       "0  Training  3.923683  0.824561  2.060028  2.520303\n",
       "1      Test  4.414260  0.726332  2.379971  2.850348"
      ]
     },
     "metadata": {},
     "output_type": "display_data"
    }
   ],
   "source": [
    "displayResults(labels, predictions, evaluations)"
   ]
  }
 ],
 "metadata": {
  "kernelspec": {
   "display_name": "Python 3.10.5 64-bit",
   "language": "python",
   "name": "python3"
  },
  "language_info": {
   "codemirror_mode": {
    "name": "ipython",
    "version": 3
   },
   "file_extension": ".py",
   "mimetype": "text/x-python",
   "name": "python",
   "nbconvert_exporter": "python",
   "pygments_lexer": "ipython3",
   "version": "3.10.5"
  },
  "orig_nbformat": 4,
  "vscode": {
   "interpreter": {
    "hash": "9cbb33fb0dd98d60d7542c1e0a8ec9389a1bc71302aaca21e62e688716f63114"
   }
  }
 },
 "nbformat": 4,
 "nbformat_minor": 2
}
